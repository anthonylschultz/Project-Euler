{
 "metadata": {
  "language_info": {
   "codemirror_mode": {
    "name": "ipython",
    "version": 3
   },
   "file_extension": ".py",
   "mimetype": "text/x-python",
   "name": "python",
   "nbconvert_exporter": "python",
   "pygments_lexer": "ipython3",
   "version": "3.7.7-final"
  },
  "orig_nbformat": 2,
  "kernelspec": {
   "name": "ingestion",
   "display_name": "Python (Ingestion)",
   "language": "python"
  }
 },
 "nbformat": 4,
 "nbformat_minor": 2,
 "cells": [
  {
   "cell_type": "code",
   "execution_count": 2,
   "metadata": {},
   "outputs": [
    {
     "output_type": "execute_result",
     "data": {
      "text/plain": [
       "                  High         Low        Open       Close     Volume  \\\n",
       "Date                                                                    \n",
       "2021-01-04  133.610001  126.760002  133.520004  129.410004  143301900   \n",
       "2021-01-05  131.740005  128.429993  128.889999  131.009995   97664900   \n",
       "2021-01-06  131.050003  126.379997  127.720001  126.599998  155088000   \n",
       "2021-01-07  131.630005  127.860001  128.360001  130.919998  109578200   \n",
       "2021-01-08  132.630005  130.229996  132.429993  132.050003  104965400   \n",
       "\n",
       "             Adj Close  \n",
       "Date                    \n",
       "2021-01-04  129.410004  \n",
       "2021-01-05  131.009995  \n",
       "2021-01-06  126.599998  \n",
       "2021-01-07  130.919998  \n",
       "2021-01-08  132.050003  "
      ],
      "text/html": "<div>\n<style scoped>\n    .dataframe tbody tr th:only-of-type {\n        vertical-align: middle;\n    }\n\n    .dataframe tbody tr th {\n        vertical-align: top;\n    }\n\n    .dataframe thead th {\n        text-align: right;\n    }\n</style>\n<table border=\"1\" class=\"dataframe\">\n  <thead>\n    <tr style=\"text-align: right;\">\n      <th></th>\n      <th>High</th>\n      <th>Low</th>\n      <th>Open</th>\n      <th>Close</th>\n      <th>Volume</th>\n      <th>Adj Close</th>\n    </tr>\n    <tr>\n      <th>Date</th>\n      <th></th>\n      <th></th>\n      <th></th>\n      <th></th>\n      <th></th>\n      <th></th>\n    </tr>\n  </thead>\n  <tbody>\n    <tr>\n      <th>2021-01-04</th>\n      <td>133.610001</td>\n      <td>126.760002</td>\n      <td>133.520004</td>\n      <td>129.410004</td>\n      <td>143301900</td>\n      <td>129.410004</td>\n    </tr>\n    <tr>\n      <th>2021-01-05</th>\n      <td>131.740005</td>\n      <td>128.429993</td>\n      <td>128.889999</td>\n      <td>131.009995</td>\n      <td>97664900</td>\n      <td>131.009995</td>\n    </tr>\n    <tr>\n      <th>2021-01-06</th>\n      <td>131.050003</td>\n      <td>126.379997</td>\n      <td>127.720001</td>\n      <td>126.599998</td>\n      <td>155088000</td>\n      <td>126.599998</td>\n    </tr>\n    <tr>\n      <th>2021-01-07</th>\n      <td>131.630005</td>\n      <td>127.860001</td>\n      <td>128.360001</td>\n      <td>130.919998</td>\n      <td>109578200</td>\n      <td>130.919998</td>\n    </tr>\n    <tr>\n      <th>2021-01-08</th>\n      <td>132.630005</td>\n      <td>130.229996</td>\n      <td>132.429993</td>\n      <td>132.050003</td>\n      <td>104965400</td>\n      <td>132.050003</td>\n    </tr>\n  </tbody>\n</table>\n</div>"
     },
     "metadata": {},
     "execution_count": 2
    }
   ],
   "source": [
    "import math\n",
    "import matplotlib.pyplot as plt\n",
    "import numpy as np\n",
    "from pandas_datareader import data\n",
    "apple = data.DataReader('AAPL', 'yahoo',start='1/1/2021')\n",
    "apple.head()"
   ]
  },
  {
   "cell_type": "code",
   "execution_count": null,
   "metadata": {},
   "outputs": [],
   "source": [
    "# Simulate future stock price outcomes\n"
   ]
  }
 ]
}